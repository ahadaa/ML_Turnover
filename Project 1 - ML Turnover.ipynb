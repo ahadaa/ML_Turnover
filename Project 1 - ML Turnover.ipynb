{
 "cells": [
  {
   "cell_type": "markdown",
   "id": "75800fe8",
   "metadata": {},
   "source": [
    "# Project Desciption \n"
   ]
  },
  {
   "cell_type": "markdown",
   "id": "a7b1b1cb",
   "metadata": {},
   "source": [
    "> Portobello Tech is an app innovator that has devised an intelligent way of predicting employee turnover within the company. It periodically evaluates employees' work details including the number of projects they worked upon, average monthly working hours, time spent in the company, promotions in the last 5 years, and salary level.\n",
    "\n",
    "> Data from prior evaluations show the employee’s satisfaction at the workplace. The data could be used to identify patterns in work style and their interest to continue to work in the company. \n",
    "\n",
    "> The HR Department owns the data and uses it to predict employee turnover. Employee turnover refers to the total number of workers who leave a company over a certain time period.\n"
   ]
  },
  {
   "cell_type": "markdown",
   "id": "6b09a71f",
   "metadata": {},
   "source": [
    "## <font color='teal'>***Step 0: Import Libraries***"
   ]
  },
  {
   "cell_type": "code",
   "execution_count": 46,
   "id": "5be9714c",
   "metadata": {},
   "outputs": [],
   "source": [
    "import numpy as np \n",
    "import pandas as pd\n",
    "\n",
    "import matplotlib.pyplot as plt\n",
    "import seaborn as sns\n",
    "\n",
    "from sklearn.model_selection import train_test_split\n",
    "from sklearn.cluster import KMeans\n",
    "from imblearn.over_sampling import SMOTE\n",
    "\n",
    "from sklearn.metrics import classification_report, roc_curve, roc_auc_score\n",
    "from sklearn.model_selection import KFold, cross_val_score\n",
    "from sklearn.ensemble import GradientBoostingClassifier, RandomForestClassifier\n",
    "from sklearn.linear_model import LogisticRegression\n",
    "\n",
    "import warnings\n",
    "warnings.filterwarnings('ignore')"
   ]
  },
  {
   "cell_type": "markdown",
   "id": "79979cca",
   "metadata": {},
   "source": [
    "## <font color='teal'>***Step 1: Import Dataset***"
   ]
  },
  {
   "cell_type": "code",
   "execution_count": 2,
   "id": "21e510ec",
   "metadata": {},
   "outputs": [
    {
     "data": {
      "text/html": [
       "<div>\n",
       "<style scoped>\n",
       "    .dataframe tbody tr th:only-of-type {\n",
       "        vertical-align: middle;\n",
       "    }\n",
       "\n",
       "    .dataframe tbody tr th {\n",
       "        vertical-align: top;\n",
       "    }\n",
       "\n",
       "    .dataframe thead th {\n",
       "        text-align: right;\n",
       "    }\n",
       "</style>\n",
       "<table border=\"1\" class=\"dataframe\">\n",
       "  <thead>\n",
       "    <tr style=\"text-align: right;\">\n",
       "      <th></th>\n",
       "      <th>satisfaction_level</th>\n",
       "      <th>last_evaluation</th>\n",
       "      <th>number_project</th>\n",
       "      <th>average_montly_hours</th>\n",
       "      <th>time_spend_company</th>\n",
       "      <th>Work_accident</th>\n",
       "      <th>left</th>\n",
       "      <th>promotion_last_5years</th>\n",
       "      <th>sales</th>\n",
       "      <th>salary</th>\n",
       "    </tr>\n",
       "  </thead>\n",
       "  <tbody>\n",
       "    <tr>\n",
       "      <th>0</th>\n",
       "      <td>0.38</td>\n",
       "      <td>0.53</td>\n",
       "      <td>2</td>\n",
       "      <td>157</td>\n",
       "      <td>3</td>\n",
       "      <td>0</td>\n",
       "      <td>1</td>\n",
       "      <td>0</td>\n",
       "      <td>sales</td>\n",
       "      <td>low</td>\n",
       "    </tr>\n",
       "    <tr>\n",
       "      <th>1</th>\n",
       "      <td>0.80</td>\n",
       "      <td>0.86</td>\n",
       "      <td>5</td>\n",
       "      <td>262</td>\n",
       "      <td>6</td>\n",
       "      <td>0</td>\n",
       "      <td>1</td>\n",
       "      <td>0</td>\n",
       "      <td>sales</td>\n",
       "      <td>medium</td>\n",
       "    </tr>\n",
       "    <tr>\n",
       "      <th>2</th>\n",
       "      <td>0.11</td>\n",
       "      <td>0.88</td>\n",
       "      <td>7</td>\n",
       "      <td>272</td>\n",
       "      <td>4</td>\n",
       "      <td>0</td>\n",
       "      <td>1</td>\n",
       "      <td>0</td>\n",
       "      <td>sales</td>\n",
       "      <td>medium</td>\n",
       "    </tr>\n",
       "    <tr>\n",
       "      <th>3</th>\n",
       "      <td>0.72</td>\n",
       "      <td>0.87</td>\n",
       "      <td>5</td>\n",
       "      <td>223</td>\n",
       "      <td>5</td>\n",
       "      <td>0</td>\n",
       "      <td>1</td>\n",
       "      <td>0</td>\n",
       "      <td>sales</td>\n",
       "      <td>low</td>\n",
       "    </tr>\n",
       "    <tr>\n",
       "      <th>4</th>\n",
       "      <td>0.37</td>\n",
       "      <td>0.52</td>\n",
       "      <td>2</td>\n",
       "      <td>159</td>\n",
       "      <td>3</td>\n",
       "      <td>0</td>\n",
       "      <td>1</td>\n",
       "      <td>0</td>\n",
       "      <td>sales</td>\n",
       "      <td>low</td>\n",
       "    </tr>\n",
       "  </tbody>\n",
       "</table>\n",
       "</div>"
      ],
      "text/plain": [
       "   satisfaction_level  last_evaluation  number_project  average_montly_hours  \\\n",
       "0                0.38             0.53               2                   157   \n",
       "1                0.80             0.86               5                   262   \n",
       "2                0.11             0.88               7                   272   \n",
       "3                0.72             0.87               5                   223   \n",
       "4                0.37             0.52               2                   159   \n",
       "\n",
       "   time_spend_company  Work_accident  left  promotion_last_5years  sales  \\\n",
       "0                   3              0     1                      0  sales   \n",
       "1                   6              0     1                      0  sales   \n",
       "2                   4              0     1                      0  sales   \n",
       "3                   5              0     1                      0  sales   \n",
       "4                   3              0     1                      0  sales   \n",
       "\n",
       "   salary  \n",
       "0     low  \n",
       "1  medium  \n",
       "2  medium  \n",
       "3     low  \n",
       "4     low  "
      ]
     },
     "execution_count": 2,
     "metadata": {},
     "output_type": "execute_result"
    }
   ],
   "source": [
    "#read turnover dataset\n",
    "\n",
    "df= pd.read_excel('turnover_dataset.xlsx')\n",
    "df.head()"
   ]
  },
  {
   "cell_type": "code",
   "execution_count": 3,
   "id": "b9ab3ab0",
   "metadata": {},
   "outputs": [
    {
     "name": "stdout",
     "output_type": "stream",
     "text": [
      "<class 'pandas.core.frame.DataFrame'>\n",
      "RangeIndex: 14999 entries, 0 to 14998\n",
      "Data columns (total 10 columns):\n",
      " #   Column                 Non-Null Count  Dtype  \n",
      "---  ------                 --------------  -----  \n",
      " 0   satisfaction_level     14999 non-null  float64\n",
      " 1   last_evaluation        14999 non-null  float64\n",
      " 2   number_project         14999 non-null  int64  \n",
      " 3   average_montly_hours   14999 non-null  int64  \n",
      " 4   time_spend_company     14999 non-null  int64  \n",
      " 5   Work_accident          14999 non-null  int64  \n",
      " 6   left                   14999 non-null  int64  \n",
      " 7   promotion_last_5years  14999 non-null  int64  \n",
      " 8   sales                  14999 non-null  object \n",
      " 9   salary                 14999 non-null  object \n",
      "dtypes: float64(2), int64(6), object(2)\n",
      "memory usage: 1.1+ MB\n"
     ]
    }
   ],
   "source": [
    "df.info()"
   ]
  },
  {
   "cell_type": "markdown",
   "id": "668fded0",
   "metadata": {},
   "source": [
    "## <font color='teal'>***Step2: Data Cleaning & QA***"
   ]
  },
  {
   "cell_type": "code",
   "execution_count": 4,
   "id": "c728213b",
   "metadata": {},
   "outputs": [
    {
     "data": {
      "text/plain": [
       "(14999, 10)"
      ]
     },
     "execution_count": 4,
     "metadata": {},
     "output_type": "execute_result"
    }
   ],
   "source": [
    "#For table\n",
    "\n",
    "df.shape"
   ]
  },
  {
   "cell_type": "code",
   "execution_count": 5,
   "id": "64969af3",
   "metadata": {},
   "outputs": [
    {
     "name": "stdout",
     "output_type": "stream",
     "text": [
      "The number of missing cells is: 0\n",
      "The number of duplicated rows are: 3008\n"
     ]
    }
   ],
   "source": [
    "#For rows\n",
    "print('The number of missing cells is:', df.isna().sum().sum())\n",
    "print('The number of duplicated rows are:', df.duplicated().sum())"
   ]
  },
  {
   "cell_type": "code",
   "execution_count": 6,
   "id": "a8e041f3",
   "metadata": {},
   "outputs": [
    {
     "data": {
      "text/plain": [
       "Index(['satisfaction_level', 'last_evaluation', 'number_project',\n",
       "       'average_montly_hours', 'time_spend_company', 'Work_accident', 'left',\n",
       "       'promotion_last_5years', 'sales', 'salary'],\n",
       "      dtype='object')"
      ]
     },
     "execution_count": 6,
     "metadata": {},
     "output_type": "execute_result"
    }
   ],
   "source": [
    "df.columns"
   ]
  },
  {
   "cell_type": "code",
   "execution_count": 7,
   "id": "ee56cde5",
   "metadata": {},
   "outputs": [
    {
     "data": {
      "text/html": [
       "<div>\n",
       "<style scoped>\n",
       "    .dataframe tbody tr th:only-of-type {\n",
       "        vertical-align: middle;\n",
       "    }\n",
       "\n",
       "    .dataframe tbody tr th {\n",
       "        vertical-align: top;\n",
       "    }\n",
       "\n",
       "    .dataframe thead th {\n",
       "        text-align: right;\n",
       "    }\n",
       "</style>\n",
       "<table border=\"1\" class=\"dataframe\">\n",
       "  <thead>\n",
       "    <tr style=\"text-align: right;\">\n",
       "      <th></th>\n",
       "      <th>satisfaction_level</th>\n",
       "      <th>last_evaluation</th>\n",
       "      <th>number_project</th>\n",
       "      <th>average_montly_hours</th>\n",
       "      <th>time_spend_company</th>\n",
       "      <th>Work_accident</th>\n",
       "      <th>left</th>\n",
       "      <th>promotion_last_5years</th>\n",
       "      <th>sales</th>\n",
       "      <th>salary</th>\n",
       "      <th>count</th>\n",
       "    </tr>\n",
       "  </thead>\n",
       "  <tbody>\n",
       "    <tr>\n",
       "      <th>0</th>\n",
       "      <td>0.09</td>\n",
       "      <td>0.62</td>\n",
       "      <td>6</td>\n",
       "      <td>294</td>\n",
       "      <td>4</td>\n",
       "      <td>0</td>\n",
       "      <td>1</td>\n",
       "      <td>0</td>\n",
       "      <td>accounting</td>\n",
       "      <td>low</td>\n",
       "      <td>2</td>\n",
       "    </tr>\n",
       "    <tr>\n",
       "      <th>1</th>\n",
       "      <td>0.09</td>\n",
       "      <td>0.77</td>\n",
       "      <td>5</td>\n",
       "      <td>275</td>\n",
       "      <td>4</td>\n",
       "      <td>0</td>\n",
       "      <td>1</td>\n",
       "      <td>0</td>\n",
       "      <td>product_mng</td>\n",
       "      <td>medium</td>\n",
       "      <td>2</td>\n",
       "    </tr>\n",
       "    <tr>\n",
       "      <th>2</th>\n",
       "      <td>0.09</td>\n",
       "      <td>0.77</td>\n",
       "      <td>6</td>\n",
       "      <td>290</td>\n",
       "      <td>4</td>\n",
       "      <td>0</td>\n",
       "      <td>1</td>\n",
       "      <td>0</td>\n",
       "      <td>technical</td>\n",
       "      <td>medium</td>\n",
       "      <td>2</td>\n",
       "    </tr>\n",
       "    <tr>\n",
       "      <th>3</th>\n",
       "      <td>0.09</td>\n",
       "      <td>0.78</td>\n",
       "      <td>6</td>\n",
       "      <td>254</td>\n",
       "      <td>4</td>\n",
       "      <td>0</td>\n",
       "      <td>1</td>\n",
       "      <td>0</td>\n",
       "      <td>support</td>\n",
       "      <td>low</td>\n",
       "      <td>2</td>\n",
       "    </tr>\n",
       "    <tr>\n",
       "      <th>4</th>\n",
       "      <td>0.09</td>\n",
       "      <td>0.79</td>\n",
       "      <td>6</td>\n",
       "      <td>275</td>\n",
       "      <td>4</td>\n",
       "      <td>0</td>\n",
       "      <td>1</td>\n",
       "      <td>0</td>\n",
       "      <td>sales</td>\n",
       "      <td>low</td>\n",
       "      <td>2</td>\n",
       "    </tr>\n",
       "    <tr>\n",
       "      <th>...</th>\n",
       "      <td>...</td>\n",
       "      <td>...</td>\n",
       "      <td>...</td>\n",
       "      <td>...</td>\n",
       "      <td>...</td>\n",
       "      <td>...</td>\n",
       "      <td>...</td>\n",
       "      <td>...</td>\n",
       "      <td>...</td>\n",
       "      <td>...</td>\n",
       "      <td>...</td>\n",
       "    </tr>\n",
       "    <tr>\n",
       "      <th>2333</th>\n",
       "      <td>1.00</td>\n",
       "      <td>0.86</td>\n",
       "      <td>2</td>\n",
       "      <td>264</td>\n",
       "      <td>3</td>\n",
       "      <td>0</td>\n",
       "      <td>0</td>\n",
       "      <td>0</td>\n",
       "      <td>IT</td>\n",
       "      <td>medium</td>\n",
       "      <td>1</td>\n",
       "    </tr>\n",
       "    <tr>\n",
       "      <th>2334</th>\n",
       "      <td>1.00</td>\n",
       "      <td>0.86</td>\n",
       "      <td>4</td>\n",
       "      <td>245</td>\n",
       "      <td>4</td>\n",
       "      <td>0</td>\n",
       "      <td>0</td>\n",
       "      <td>0</td>\n",
       "      <td>sales</td>\n",
       "      <td>medium</td>\n",
       "      <td>1</td>\n",
       "    </tr>\n",
       "    <tr>\n",
       "      <th>2335</th>\n",
       "      <td>1.00</td>\n",
       "      <td>0.88</td>\n",
       "      <td>6</td>\n",
       "      <td>201</td>\n",
       "      <td>4</td>\n",
       "      <td>0</td>\n",
       "      <td>0</td>\n",
       "      <td>0</td>\n",
       "      <td>technical</td>\n",
       "      <td>low</td>\n",
       "      <td>1</td>\n",
       "    </tr>\n",
       "    <tr>\n",
       "      <th>2336</th>\n",
       "      <td>1.00</td>\n",
       "      <td>0.93</td>\n",
       "      <td>5</td>\n",
       "      <td>167</td>\n",
       "      <td>3</td>\n",
       "      <td>0</td>\n",
       "      <td>0</td>\n",
       "      <td>0</td>\n",
       "      <td>sales</td>\n",
       "      <td>medium</td>\n",
       "      <td>1</td>\n",
       "    </tr>\n",
       "    <tr>\n",
       "      <th>2337</th>\n",
       "      <td>1.00</td>\n",
       "      <td>0.93</td>\n",
       "      <td>5</td>\n",
       "      <td>231</td>\n",
       "      <td>2</td>\n",
       "      <td>0</td>\n",
       "      <td>0</td>\n",
       "      <td>0</td>\n",
       "      <td>marketing</td>\n",
       "      <td>medium</td>\n",
       "      <td>1</td>\n",
       "    </tr>\n",
       "  </tbody>\n",
       "</table>\n",
       "<p>2338 rows × 11 columns</p>\n",
       "</div>"
      ],
      "text/plain": [
       "      satisfaction_level  last_evaluation  number_project  \\\n",
       "0                   0.09             0.62               6   \n",
       "1                   0.09             0.77               5   \n",
       "2                   0.09             0.77               6   \n",
       "3                   0.09             0.78               6   \n",
       "4                   0.09             0.79               6   \n",
       "...                  ...              ...             ...   \n",
       "2333                1.00             0.86               2   \n",
       "2334                1.00             0.86               4   \n",
       "2335                1.00             0.88               6   \n",
       "2336                1.00             0.93               5   \n",
       "2337                1.00             0.93               5   \n",
       "\n",
       "      average_montly_hours  time_spend_company  Work_accident  left  \\\n",
       "0                      294                   4              0     1   \n",
       "1                      275                   4              0     1   \n",
       "2                      290                   4              0     1   \n",
       "3                      254                   4              0     1   \n",
       "4                      275                   4              0     1   \n",
       "...                    ...                 ...            ...   ...   \n",
       "2333                   264                   3              0     0   \n",
       "2334                   245                   4              0     0   \n",
       "2335                   201                   4              0     0   \n",
       "2336                   167                   3              0     0   \n",
       "2337                   231                   2              0     0   \n",
       "\n",
       "      promotion_last_5years        sales  salary  count  \n",
       "0                         0   accounting     low      2  \n",
       "1                         0  product_mng  medium      2  \n",
       "2                         0    technical  medium      2  \n",
       "3                         0      support     low      2  \n",
       "4                         0        sales     low      2  \n",
       "...                     ...          ...     ...    ...  \n",
       "2333                      0           IT  medium      1  \n",
       "2334                      0        sales  medium      1  \n",
       "2335                      0    technical     low      1  \n",
       "2336                      0        sales  medium      1  \n",
       "2337                      0    marketing  medium      1  \n",
       "\n",
       "[2338 rows x 11 columns]"
      ]
     },
     "execution_count": 7,
     "metadata": {},
     "output_type": "execute_result"
    }
   ],
   "source": [
    "df[df.duplicated()].groupby(by=['satisfaction_level', 'last_evaluation', 'number_project',\n",
    "       'average_montly_hours', 'time_spend_company', 'Work_accident', 'left',\n",
    "       'promotion_last_5years', 'sales', 'salary']).size().rename('count').reset_index()"
   ]
  },
  {
   "cell_type": "markdown",
   "id": "8c4162c6",
   "metadata": {},
   "source": [
    "<font color='red'> We see duplicated values here, however, I will keep those as maybe two empployees or more submited the same fact & figures"
   ]
  },
  {
   "cell_type": "code",
   "execution_count": 8,
   "id": "422d7402",
   "metadata": {},
   "outputs": [],
   "source": [
    "#for columns\n",
    "#make all column names lower case\n",
    "\n",
    "df.columns = df.columns.str.lower()\n",
    "\n",
    "#Rename column sales into department\n",
    "df.rename(columns={'sales':'department'}, inplace = True)\n",
    "\n",
    "#Re-order column names \n",
    "df = df[['satisfaction_level', 'last_evaluation', 'number_project',\n",
    "       'average_montly_hours', 'time_spend_company', 'work_accident',\n",
    "       'promotion_last_5years', 'department', 'salary', 'left']]"
   ]
  },
  {
   "cell_type": "code",
   "execution_count": 9,
   "id": "e85203a4",
   "metadata": {},
   "outputs": [
    {
     "data": {
      "text/html": [
       "<div>\n",
       "<style scoped>\n",
       "    .dataframe tbody tr th:only-of-type {\n",
       "        vertical-align: middle;\n",
       "    }\n",
       "\n",
       "    .dataframe tbody tr th {\n",
       "        vertical-align: top;\n",
       "    }\n",
       "\n",
       "    .dataframe thead th {\n",
       "        text-align: right;\n",
       "    }\n",
       "</style>\n",
       "<table border=\"1\" class=\"dataframe\">\n",
       "  <thead>\n",
       "    <tr style=\"text-align: right;\">\n",
       "      <th></th>\n",
       "      <th>satisfaction_level</th>\n",
       "      <th>last_evaluation</th>\n",
       "      <th>number_project</th>\n",
       "      <th>average_montly_hours</th>\n",
       "      <th>time_spend_company</th>\n",
       "      <th>work_accident</th>\n",
       "      <th>promotion_last_5years</th>\n",
       "      <th>department</th>\n",
       "      <th>salary</th>\n",
       "      <th>left</th>\n",
       "    </tr>\n",
       "  </thead>\n",
       "  <tbody>\n",
       "    <tr>\n",
       "      <th>0</th>\n",
       "      <td>0.38</td>\n",
       "      <td>0.53</td>\n",
       "      <td>2</td>\n",
       "      <td>157</td>\n",
       "      <td>3</td>\n",
       "      <td>0</td>\n",
       "      <td>0</td>\n",
       "      <td>sales</td>\n",
       "      <td>low</td>\n",
       "      <td>1</td>\n",
       "    </tr>\n",
       "  </tbody>\n",
       "</table>\n",
       "</div>"
      ],
      "text/plain": [
       "   satisfaction_level  last_evaluation  number_project  average_montly_hours  \\\n",
       "0                0.38             0.53               2                   157   \n",
       "\n",
       "   time_spend_company  work_accident  promotion_last_5years department salary  \\\n",
       "0                   3              0                      0      sales    low   \n",
       "\n",
       "   left  \n",
       "0     1  "
      ]
     },
     "execution_count": 9,
     "metadata": {},
     "output_type": "execute_result"
    }
   ],
   "source": [
    "#Now check if data is ready \n",
    "df.head(1)"
   ]
  },
  {
   "cell_type": "markdown",
   "id": "2c4d3b93",
   "metadata": {},
   "source": [
    "#### Now, we move to data wrangling then EDA"
   ]
  },
  {
   "cell_type": "markdown",
   "id": "ef2ef946",
   "metadata": {},
   "source": [
    "## <font color='teal'>***Step 3: Data Wrangling***"
   ]
  },
  {
   "cell_type": "code",
   "execution_count": 10,
   "id": "c7a04fb6",
   "metadata": {},
   "outputs": [
    {
     "data": {
      "text/html": [
       "<div>\n",
       "<style scoped>\n",
       "    .dataframe tbody tr th:only-of-type {\n",
       "        vertical-align: middle;\n",
       "    }\n",
       "\n",
       "    .dataframe tbody tr th {\n",
       "        vertical-align: top;\n",
       "    }\n",
       "\n",
       "    .dataframe thead th {\n",
       "        text-align: right;\n",
       "    }\n",
       "</style>\n",
       "<table border=\"1\" class=\"dataframe\">\n",
       "  <thead>\n",
       "    <tr style=\"text-align: right;\">\n",
       "      <th></th>\n",
       "      <th>satisfaction_level</th>\n",
       "      <th>last_evaluation</th>\n",
       "      <th>number_project</th>\n",
       "      <th>average_montly_hours</th>\n",
       "      <th>time_spend_company</th>\n",
       "      <th>work_accident</th>\n",
       "      <th>promotion_last_5years</th>\n",
       "      <th>department</th>\n",
       "      <th>salary</th>\n",
       "      <th>left</th>\n",
       "    </tr>\n",
       "  </thead>\n",
       "  <tbody>\n",
       "    <tr>\n",
       "      <th>count</th>\n",
       "      <td>14999.000000</td>\n",
       "      <td>14999.000000</td>\n",
       "      <td>14999.000000</td>\n",
       "      <td>14999.000000</td>\n",
       "      <td>14999.000000</td>\n",
       "      <td>14999.000000</td>\n",
       "      <td>14999.000000</td>\n",
       "      <td>14999</td>\n",
       "      <td>14999</td>\n",
       "      <td>14999.000000</td>\n",
       "    </tr>\n",
       "    <tr>\n",
       "      <th>unique</th>\n",
       "      <td>NaN</td>\n",
       "      <td>NaN</td>\n",
       "      <td>NaN</td>\n",
       "      <td>NaN</td>\n",
       "      <td>NaN</td>\n",
       "      <td>NaN</td>\n",
       "      <td>NaN</td>\n",
       "      <td>10</td>\n",
       "      <td>3</td>\n",
       "      <td>NaN</td>\n",
       "    </tr>\n",
       "    <tr>\n",
       "      <th>top</th>\n",
       "      <td>NaN</td>\n",
       "      <td>NaN</td>\n",
       "      <td>NaN</td>\n",
       "      <td>NaN</td>\n",
       "      <td>NaN</td>\n",
       "      <td>NaN</td>\n",
       "      <td>NaN</td>\n",
       "      <td>sales</td>\n",
       "      <td>low</td>\n",
       "      <td>NaN</td>\n",
       "    </tr>\n",
       "    <tr>\n",
       "      <th>freq</th>\n",
       "      <td>NaN</td>\n",
       "      <td>NaN</td>\n",
       "      <td>NaN</td>\n",
       "      <td>NaN</td>\n",
       "      <td>NaN</td>\n",
       "      <td>NaN</td>\n",
       "      <td>NaN</td>\n",
       "      <td>4140</td>\n",
       "      <td>7316</td>\n",
       "      <td>NaN</td>\n",
       "    </tr>\n",
       "    <tr>\n",
       "      <th>mean</th>\n",
       "      <td>0.612834</td>\n",
       "      <td>0.716102</td>\n",
       "      <td>3.803054</td>\n",
       "      <td>201.050337</td>\n",
       "      <td>3.498233</td>\n",
       "      <td>0.144610</td>\n",
       "      <td>0.021268</td>\n",
       "      <td>NaN</td>\n",
       "      <td>NaN</td>\n",
       "      <td>0.238083</td>\n",
       "    </tr>\n",
       "    <tr>\n",
       "      <th>std</th>\n",
       "      <td>0.248631</td>\n",
       "      <td>0.171169</td>\n",
       "      <td>1.232592</td>\n",
       "      <td>49.943099</td>\n",
       "      <td>1.460136</td>\n",
       "      <td>0.351719</td>\n",
       "      <td>0.144281</td>\n",
       "      <td>NaN</td>\n",
       "      <td>NaN</td>\n",
       "      <td>0.425924</td>\n",
       "    </tr>\n",
       "    <tr>\n",
       "      <th>min</th>\n",
       "      <td>0.090000</td>\n",
       "      <td>0.360000</td>\n",
       "      <td>2.000000</td>\n",
       "      <td>96.000000</td>\n",
       "      <td>2.000000</td>\n",
       "      <td>0.000000</td>\n",
       "      <td>0.000000</td>\n",
       "      <td>NaN</td>\n",
       "      <td>NaN</td>\n",
       "      <td>0.000000</td>\n",
       "    </tr>\n",
       "    <tr>\n",
       "      <th>25%</th>\n",
       "      <td>0.440000</td>\n",
       "      <td>0.560000</td>\n",
       "      <td>3.000000</td>\n",
       "      <td>156.000000</td>\n",
       "      <td>3.000000</td>\n",
       "      <td>0.000000</td>\n",
       "      <td>0.000000</td>\n",
       "      <td>NaN</td>\n",
       "      <td>NaN</td>\n",
       "      <td>0.000000</td>\n",
       "    </tr>\n",
       "    <tr>\n",
       "      <th>50%</th>\n",
       "      <td>0.640000</td>\n",
       "      <td>0.720000</td>\n",
       "      <td>4.000000</td>\n",
       "      <td>200.000000</td>\n",
       "      <td>3.000000</td>\n",
       "      <td>0.000000</td>\n",
       "      <td>0.000000</td>\n",
       "      <td>NaN</td>\n",
       "      <td>NaN</td>\n",
       "      <td>0.000000</td>\n",
       "    </tr>\n",
       "    <tr>\n",
       "      <th>75%</th>\n",
       "      <td>0.820000</td>\n",
       "      <td>0.870000</td>\n",
       "      <td>5.000000</td>\n",
       "      <td>245.000000</td>\n",
       "      <td>4.000000</td>\n",
       "      <td>0.000000</td>\n",
       "      <td>0.000000</td>\n",
       "      <td>NaN</td>\n",
       "      <td>NaN</td>\n",
       "      <td>0.000000</td>\n",
       "    </tr>\n",
       "    <tr>\n",
       "      <th>max</th>\n",
       "      <td>1.000000</td>\n",
       "      <td>1.000000</td>\n",
       "      <td>7.000000</td>\n",
       "      <td>310.000000</td>\n",
       "      <td>10.000000</td>\n",
       "      <td>1.000000</td>\n",
       "      <td>1.000000</td>\n",
       "      <td>NaN</td>\n",
       "      <td>NaN</td>\n",
       "      <td>1.000000</td>\n",
       "    </tr>\n",
       "  </tbody>\n",
       "</table>\n",
       "</div>"
      ],
      "text/plain": [
       "        satisfaction_level  last_evaluation  number_project  \\\n",
       "count         14999.000000     14999.000000    14999.000000   \n",
       "unique                 NaN              NaN             NaN   \n",
       "top                    NaN              NaN             NaN   \n",
       "freq                   NaN              NaN             NaN   \n",
       "mean              0.612834         0.716102        3.803054   \n",
       "std               0.248631         0.171169        1.232592   \n",
       "min               0.090000         0.360000        2.000000   \n",
       "25%               0.440000         0.560000        3.000000   \n",
       "50%               0.640000         0.720000        4.000000   \n",
       "75%               0.820000         0.870000        5.000000   \n",
       "max               1.000000         1.000000        7.000000   \n",
       "\n",
       "        average_montly_hours  time_spend_company  work_accident  \\\n",
       "count           14999.000000        14999.000000   14999.000000   \n",
       "unique                   NaN                 NaN            NaN   \n",
       "top                      NaN                 NaN            NaN   \n",
       "freq                     NaN                 NaN            NaN   \n",
       "mean              201.050337            3.498233       0.144610   \n",
       "std                49.943099            1.460136       0.351719   \n",
       "min                96.000000            2.000000       0.000000   \n",
       "25%               156.000000            3.000000       0.000000   \n",
       "50%               200.000000            3.000000       0.000000   \n",
       "75%               245.000000            4.000000       0.000000   \n",
       "max               310.000000           10.000000       1.000000   \n",
       "\n",
       "        promotion_last_5years department salary          left  \n",
       "count            14999.000000      14999  14999  14999.000000  \n",
       "unique                    NaN         10      3           NaN  \n",
       "top                       NaN      sales    low           NaN  \n",
       "freq                      NaN       4140   7316           NaN  \n",
       "mean                 0.021268        NaN    NaN      0.238083  \n",
       "std                  0.144281        NaN    NaN      0.425924  \n",
       "min                  0.000000        NaN    NaN      0.000000  \n",
       "25%                  0.000000        NaN    NaN      0.000000  \n",
       "50%                  0.000000        NaN    NaN      0.000000  \n",
       "75%                  0.000000        NaN    NaN      0.000000  \n",
       "max                  1.000000        NaN    NaN      1.000000  "
      ]
     },
     "execution_count": 10,
     "metadata": {},
     "output_type": "execute_result"
    }
   ],
   "source": [
    "df.describe(include='all')"
   ]
  },
  {
   "cell_type": "markdown",
   "id": "ab47ee12",
   "metadata": {},
   "source": [
    "#### The dataset is already clean so I will move to EDA to explore more"
   ]
  },
  {
   "cell_type": "markdown",
   "id": "e199431d",
   "metadata": {},
   "source": [
    "## <font color='teal'>***Step 4: EDA***\n",
    "    "
   ]
  },
  {
   "cell_type": "code",
   "execution_count": 11,
   "id": "f2e31606",
   "metadata": {},
   "outputs": [],
   "source": [
    "def without_hue(ax, feature):\n",
    "    total = len(feature)\n",
    "    for p in ax.patches:\n",
    "        percentage = '{:.1f}%'.format(100 * p.get_height()/total)\n",
    "        x = p.get_x() + p.get_width() / 2 - 0.05\n",
    "        y = p.get_y() + p.get_height()\n",
    "        ax.annotate(percentage, (x, y), size = 12)"
   ]
  },
  {
   "cell_type": "code",
   "execution_count": 12,
   "id": "425e8a93",
   "metadata": {},
   "outputs": [
    {
     "data": {
      "text/plain": [
       "''"
      ]
     },
     "execution_count": 12,
     "metadata": {},
     "output_type": "execute_result"
    },
    {
     "data": {
      "image/png": "[encoded data removed]",
      "text/plain": [
       "<Figure size 360x216 with 1 Axes>"
      ]
     },
     "metadata": {
      "needs_background": "light"
     },
     "output_type": "display_data"
    }
   ],
   "source": [
    "#Target\n",
    "plt.figure(figsize=(5,3))\n",
    "sns.set_theme(palette='Pastel1')\n",
    "catp = sns.countplot(x='left', data=df)\n",
    "catp.set_xlabel('Left')\n",
    "catp.set_xticklabels (['No', 'Yes'])\n",
    "catp.set_ylabel('Count of Employees left')\n",
    "plt.title('Bar chart for number of Employees Left Y or N')\n",
    "\n",
    "without_hue(catp, df.left)\n",
    ";"
   ]
  },
  {
   "cell_type": "markdown",
   "id": "8148307a",
   "metadata": {},
   "source": [
    "<font color='red'> Based on the above, we infer that the data in un-balanced with percentage of 76% vs. 24%"
   ]
  },
  {
   "cell_type": "code",
   "execution_count": 13,
   "id": "78696a6f",
   "metadata": {},
   "outputs": [
    {
     "data": {
      "image/png": "[encoded data removed]",
      "text/plain": [
       "<Figure size 576x360 with 5 Axes>"
      ]
     },
     "metadata": {},
     "output_type": "display_data"
    }
   ],
   "source": [
    "#Univariate plot to check distribution\n",
    "numeric_cols = df.columns[:-5]\n",
    "rows= 0\n",
    "cols=0\n",
    "\n",
    "fig, ax = plt.subplots(nrows=1, ncols=5, figsize=(8,5))\n",
    "\n",
    "for i in range(5):\n",
    "    sns.boxplot(y=numeric_cols[i], data = df, ax=ax[cols])\n",
    "#     if cols == 3:\n",
    "#         rows=rows+1\n",
    "#         cols=0\n",
    "#     else: \n",
    "#         cols+=1\n",
    "    cols+=1\n",
    "    \n",
    "\n",
    "plt.tight_layout()"
   ]
  },
  {
   "cell_type": "code",
   "execution_count": 14,
   "id": "4da1e672",
   "metadata": {},
   "outputs": [
    {
     "data": {
      "image/png": "[encoded data removed]",
      "text/plain": [
       "<Figure size 720x576 with 4 Axes>"
      ]
     },
     "metadata": {},
     "output_type": "display_data"
    }
   ],
   "source": [
    "#Draw work_accident & promotion_last_5years\n",
    "cat_cols = df.columns[-5:-1]\n",
    "fig, ax =  plt.subplots(nrows=1, ncols=4, figsize=(10,8))\n",
    "\n",
    "for i in range(4):\n",
    "    catp = sns.countplot(x=cat_cols[i], data=df, ax=ax[i])\n",
    "    if df[cat_cols[i]].nunique() > 2:\n",
    "#         print(cat_cols[i])\n",
    "        plt.xticks(rotation=90)\n",
    "    \n",
    "plt.tight_layout()\n"
   ]
  },
  {
   "cell_type": "markdown",
   "id": "90e497ac",
   "metadata": {},
   "source": [
    "Based on uni-variate Analysis: \n",
    "\n",
    "1. Target is un-balanced and I plan to use SMOTE to treat this imbalance.\n",
    "2. Only Salary in Numeric Features has outliers, but I will ignore and keep them. \n",
    "3. For Categorical & Binary columns, there are imbalance but since this is feature, no remedy is required. "
   ]
  },
  {
   "cell_type": "code",
   "execution_count": 15,
   "id": "835ff65f",
   "metadata": {},
   "outputs": [
    {
     "data": {
      "image/png": "[encoded data removed]",
      "text/plain": [
       "<Figure size 432x288 with 1 Axes>"
      ]
     },
     "metadata": {},
     "output_type": "display_data"
    }
   ],
   "source": [
    "# Bivariate Plot for Eployee project count & Left\n",
    "\n",
    "# fig, ax = plt.subplots(nrows=1, ncols=2)\n",
    "sns.countplot(x='number_project', data=df, hue='left')\n",
    "plt.title('The Distribution fo Number of project for Employees who left or Stayed');"
   ]
  },
  {
   "cell_type": "markdown",
   "id": "52705d3e",
   "metadata": {},
   "source": [
    "- The Employees who left take more project than those who still didnt leave.\n",
    "- Employees who left their distribution is skewed to *Right* \n",
    "- Employees who didnt leave their distribution is Normal.\n",
    "\n",
    "***Please note that the Data is imbalanced, that's why the bars for those who didnt leave is much taller***"
   ]
  },
  {
   "cell_type": "code",
   "execution_count": 16,
   "id": "1895789c",
   "metadata": {},
   "outputs": [
    {
     "data": {
      "text/plain": [
       "<AxesSubplot:>"
      ]
     },
     "execution_count": 16,
     "metadata": {},
     "output_type": "execute_result"
    },
    {
     "data": {
      "image/png": "[encoded data removed]",
      "text/plain": [
       "<Figure size 432x288 with 2 Axes>"
      ]
     },
     "metadata": {},
     "output_type": "display_data"
    }
   ],
   "source": [
    "#Multi-variate plot\n",
    "mask = np.triu(np.ones_like(df.corr(), dtype=bool))\n",
    "sns.heatmap(df.corr(), annot=True, mask=mask)"
   ]
  },
  {
   "cell_type": "markdown",
   "id": "66f24c17",
   "metadata": {},
   "source": [
    "## <font color='teal'>***Step 5: Model Development***"
   ]
  },
  {
   "cell_type": "markdown",
   "id": "f19f30ad",
   "metadata": {},
   "source": [
    "#### Model 1: Kmeans Clustering"
   ]
  },
  {
   "cell_type": "markdown",
   "id": "ebf4a5a0",
   "metadata": {},
   "source": [
    "Data preparation for Clustering:\n",
    "\n",
    "- No normalization required as both column range from 0~1\n",
    "- Target is already encoded in 0 + 1"
   ]
  },
  {
   "cell_type": "code",
   "execution_count": 17,
   "id": "ff9206c6",
   "metadata": {
    "scrolled": true
   },
   "outputs": [
    {
     "name": "stderr",
     "output_type": "stream",
     "text": [
      "C:\\Users\\emarelm\\Anaconda3\\lib\\site-packages\\sklearn\\cluster\\_kmeans.py:1416: FutureWarning: The default value of `n_init` will change from 10 to 'auto' in 1.4. Set the value of `n_init` explicitly to suppress the warning\n",
      "  super()._check_params_vs_input(X, default_n_init=10)\n"
     ]
    },
    {
     "name": "stdout",
     "output_type": "stream",
     "text": [
      "The KMeans Model Inertia is  867.9678337640868\n"
     ]
    }
   ],
   "source": [
    "cluster_df = df[['satisfaction_level', 'last_evaluation', 'left']].values\n",
    "#Model Activation\n",
    "km = KMeans(n_clusters=3)\n",
    "#model train\n",
    "km.fit(X=cluster_df)\n",
    "#Model Evalution\n",
    "print('The KMeans Model Inertia is ', km.inertia_)"
   ]
  },
  {
   "cell_type": "markdown",
   "id": "f1f16686",
   "metadata": {},
   "source": [
    "## Handling Class Imbalance using SMOTE"
   ]
  },
  {
   "cell_type": "markdown",
   "id": "1f81cc45",
   "metadata": {},
   "source": [
    "4.1.\tPre-Process the data by converting categorical columns to numerical columns by\n",
    "- Separating categorical variables and numeric variables.\n",
    "- Applying get_dummies() to the categorical variables.\n",
    "- Combining categorical variables and numeric variables.\n",
    "- Do the stratified split of the dataset to train and test in the ratio 80:20 with random_state=123.\n",
    "- Upsample the train dataset using SMOTE technique from the imblearn module.\n"
   ]
  },
  {
   "cell_type": "code",
   "execution_count": 18,
   "id": "56f98135",
   "metadata": {},
   "outputs": [],
   "source": [
    "df_cat = df[['department','salary']]\n",
    "\n",
    "df_cat=pd.get_dummies(df_cat)\n",
    "\n",
    "master_df = pd.concat([df, df_cat], axis=1).drop(columns=['department','salary'])"
   ]
  },
  {
   "cell_type": "code",
   "execution_count": null,
   "id": "aaec6039",
   "metadata": {},
   "outputs": [],
   "source": [
    "# Split Data into X & y\n",
    "X = master_df.drop(columns='left')\n",
    "Y = master_df.left\n",
    "\n",
    "#Split Data into Train & test \n",
    "X_train, X_test, y_train, y_test = train_test_split(X, Y, test_size= 0.2, stratify=Y, random_state=123)\n",
    "\n",
    "#Upsample Train Data using SMOTE\n",
    "oversample = SMOTE()\n",
    "transformed_feature_df, transformed_label_df = oversample.fit_resample(X_train, y_train)"
   ]
  },
  {
   "cell_type": "markdown",
   "id": "76883bd4",
   "metadata": {},
   "source": [
    "5.\tPerform 5-Fold cross-validation model training and evaluate performance. \n",
    "- Train a Logistic Regression model and apply a 5-Fold CV and plot the classification report.\n",
    "- Train a Random Forest Classifier model and apply the 5-Fold CV and plot the classification report.\n",
    "- Train a  Gradient Boosting Classifier model and apply the 5-Fold CV and plot the classification report.\n"
   ]
  },
  {
   "cell_type": "code",
   "execution_count": 43,
   "id": "13b22037",
   "metadata": {},
   "outputs": [
    {
     "name": "stdout",
     "output_type": "stream",
     "text": [
      "The Average Accuracy for Logistic Regression Model on 5-Kfolds is: 0.7970904993810018\n",
      "The Average Accuracy for Random Forest Model on 5-Kfolds is: 0.9827719567820236\n",
      "The Average Accuracy for Gradient Boosting Model on 5-Kfolds is: 0.9609494007176668\n"
     ]
    }
   ],
   "source": [
    "#Create 5-Kfold on training Data\n",
    "kfold = KFold(n_splits=5, random_state=7, shuffle=True)\n",
    "\n",
    "#Model Activation \n",
    "lr = LogisticRegression()\n",
    "rf = RandomForestClassifier()\n",
    "gb = GradientBoostingClassifier()\n",
    "\n",
    "#Modelt Train & Evaluate  on Folds \n",
    "lr_results = cross_val_score(lr, transformed_feature_df, transformed_label_df , cv=kfold)\n",
    "rf_results = cross_val_score(rf,transformed_feature_df, transformed_label_df , cv=kfold)\n",
    "gb_results = cross_val_score(gb, transformed_feature_df, transformed_label_df , cv=kfold)\n",
    "\n",
    "\n",
    "#Model Score \n",
    "print('The Average Accuracy for Logistic Regression Model on 5-Kfolds is:', lr_results.mean())\n",
    "print('The Average Accuracy for Random Forest Model on 5-Kfolds is:', rf_results.mean())\n",
    "print('The Average Accuracy for Gradient Boosting Model on 5-Kfolds is:', gb_results.mean())\n",
    "\n"
   ]
  },
  {
   "cell_type": "markdown",
   "id": "baff8860",
   "metadata": {},
   "source": [
    "6.\tIdentify the best model and justify the evaluation metrics used. \n",
    "- Find the ROC/AUC for each model and plot the ROC curve.\n",
    "- Find the confusion matrix for each of the models.\n",
    "- From the confusion matrix, explain which metric needs to be used- Recall or Precision?\n"
   ]
  },
  {
   "cell_type": "code",
   "execution_count": 51,
   "id": "3e406709",
   "metadata": {},
   "outputs": [
    {
     "name": "stdout",
     "output_type": "stream",
     "text": [
      "\n",
      "\n",
      " ---Logistic Model---\n",
      "Logistic Classifier AUC = 0.7742\n",
      "              precision    recall  f1-score   support\n",
      "\n",
      "           0       0.92      0.77      0.84      2286\n",
      "           1       0.51      0.78      0.62       714\n",
      "\n",
      "    accuracy                           0.77      3000\n",
      "   macro avg       0.71      0.77      0.73      3000\n",
      "weighted avg       0.82      0.77      0.78      3000\n",
      "\n",
      "\n",
      "\n",
      " ---Random Forest Model---\n",
      "Random Forest Classifier AUC = 0.9835\n",
      "              precision    recall  f1-score   support\n",
      "\n",
      "           0       0.99      0.99      0.99      2286\n",
      "           1       0.97      0.98      0.97       714\n",
      "\n",
      "    accuracy                           0.99      3000\n",
      "   macro avg       0.98      0.98      0.98      3000\n",
      "weighted avg       0.99      0.99      0.99      3000\n",
      "\n",
      "\n",
      "\n",
      " ---Gradient Boosting Model---\n",
      "Gradient Boosting Classifier AUC = 0.9549\n",
      "              precision    recall  f1-score   support\n",
      "\n",
      "           0       0.98      0.97      0.98      2286\n",
      "           1       0.92      0.94      0.93       714\n",
      "\n",
      "    accuracy                           0.96      3000\n",
      "   macro avg       0.95      0.95      0.95      3000\n",
      "weighted avg       0.96      0.96      0.96      3000\n",
      "\n"
     ]
    }
   ],
   "source": [
    "# generate y_pred\n",
    "\n",
    "#Logistic Model\n",
    "lr.fit(transformed_feature_df, transformed_label_df)\n",
    "y_pred_lr = lr.predict(X_test)\n",
    "\n",
    "# Random FOrest Model\n",
    "rf.fit(transformed_feature_df, transformed_label_df)\n",
    "y_pred_rf = rf.predict(X_test)\n",
    "\n",
    "#Gradient Boosted Model\n",
    "gb.fit(transformed_feature_df, transformed_label_df)\n",
    "y_pred_gb = gb.predict(X_test)\n",
    "\n",
    "\n",
    "print (\"\\n\\n ---Logistic Model---\")\n",
    "gbc_auc = roc_auc_score(y_test, y_pred_lr)\n",
    "print (\"Logistic Classifier AUC = %2.4f\" % gbc_auc)\n",
    "print(classification_report(y_test, y_pred_lr))\n",
    "\n",
    "print (\"\\n\\n ---Random Forest Model---\")\n",
    "gbc_auc = roc_auc_score(y_test, y_pred_rf)\n",
    "print (\"Random Forest Classifier AUC = %2.4f\" % gbc_auc)\n",
    "print(classification_report(y_test, y_pred_rf))\n",
    "\n",
    "print (\"\\n\\n ---Gradient Boosting Model---\")\n",
    "gbc_auc = roc_auc_score(y_test,y_pred_gb )\n",
    "print (\"Gradient Boosting Classifier AUC = %2.4f\" % gbc_auc)\n",
    "print(classification_report(y_test,y_pred_gb))"
   ]
  },
  {
   "cell_type": "markdown",
   "id": "54cdf1d3",
   "metadata": {},
   "source": [
    "- Based on Precision & Recall: Logistic Regression is worest performing as It always predict 0 better than 1 while RF & GB dont experience that..!"
   ]
  },
  {
   "cell_type": "code",
   "execution_count": 69,
   "id": "cd885e3a",
   "metadata": {},
   "outputs": [
    {
     "ename": "SyntaxError",
     "evalue": "invalid syntax (1127141072.py, line 2)",
     "output_type": "error",
     "traceback": [
      "\u001b[1;36m  Input \u001b[1;32mIn [69]\u001b[1;36m\u001b[0m\n\u001b[1;33m    plt.plot(fper, tper, color='orange', label='ROC', , labels=['Logistic Regression', 'Random Forest', ' Gradient Boosting'])\u001b[0m\n\u001b[1;37m                                                      ^\u001b[0m\n\u001b[1;31mSyntaxError\u001b[0m\u001b[1;31m:\u001b[0m invalid syntax\n"
     ]
    }
   ],
   "source": [
    "def plot_roc_curve(fper, tper):  \n",
    "    plt.plot(fper, tper, color='orange', label='ROC', , labels=['Logistic Regression', 'Random Forest', ' Gradient Boosting'])\n",
    "    plt.plot([0, 1], [0, 1], color='darkblue', linestyle='--', )\n",
    "    plt.xlabel('False Positive Rate')\n",
    "    plt.ylabel('True Positive Rate')\n",
    "    plt.legend()\n",
    "#     plt.show()"
   ]
  },
  {
   "cell_type": "code",
   "execution_count": 76,
   "id": "ecd691e2",
   "metadata": {},
   "outputs": [
    {
     "data": {
      "image/png": "[encoded data removed]",
      "text/plain": [
       "<Figure size 432x288 with 1 Axes>"
      ]
     },
     "metadata": {},
     "output_type": "display_data"
    }
   ],
   "source": [
    "models = [lr, rf, gb]\n",
    "model_name = ['Logistic Regression', 'Random Forest', ' Gradient Boosting']\n",
    "colors = ['red', 'orange', 'grey']\n",
    "# fig, ax = plt.subplots(nrows = 1, ncols=3)\n",
    "for i in range(3):\n",
    "    model = models[i]\n",
    "    probs = model.predict_proba(X_test)  \n",
    "    probs = probs[:, 1]  \n",
    "    fper, tper, thresholds = roc_curve(y_test, probs) \n",
    "#     plt.subtitles(model_name[i] + 'Receiver Operating Characteristic (ROC) Curve')\n",
    "    plt.plot(fper, tper, color=colors[i], label=model_name[i])\n",
    "    plt.plot([0, 1], [0, 1], color='darkblue', linestyle='--', )\n",
    "    plt.xlabel('False Positive Rate')\n",
    "    plt.ylabel('True Positive Rate')\n",
    "    plt.title('The ROC Curve for the Three Different Models')\n",
    "    plt.legend()"
   ]
  },
  {
   "cell_type": "markdown",
   "id": "5e1989c7",
   "metadata": {},
   "source": [
    "7.\tSuggest various retention strategies for targeted employees.\n",
    "- Using the best model, predict the probability of employee turnover in the test data.\n",
    "- Based on the below probability score range, categorize the employees into four zones and suggest your thoughts on the retention strategies for each zone.\n",
    ">■\tSafe Zone (Green) (Score < 20%)\n",
    "■\tLow Risk Zone (Yellow) (20% < Score < 60%)\n",
    "■\tMedium Risk Zone (Orange) (60% < Score < 90%)\n",
    "■\tHigh Risk Zone (Red) (Score > 90%).\n"
   ]
  },
  {
   "cell_type": "markdown",
   "id": "c2be9d4e",
   "metadata": {},
   "source": [
    "<font color='red'> ***According to Confusion Matrix (f1-Score) and ROC curve, the best model is Random Forest.***"
   ]
  },
  {
   "cell_type": "code",
   "execution_count": 86,
   "id": "510f03c6",
   "metadata": {},
   "outputs": [],
   "source": [
    "#Create prediction using random forest for turnover probabilities\n",
    "y_pred_proba = rf.predict_proba(X_test)[:,1]"
   ]
  },
  {
   "cell_type": "code",
   "execution_count": 95,
   "id": "4a586730",
   "metadata": {},
   "outputs": [],
   "source": [
    "# Create a scoring system based on predict proba of test\n",
    "scores = []\n",
    "for i in range(len(y_pred_proba)):\n",
    "    turnover_prob = y_pred_proba[i]\n",
    "    if turnover_prob <= 0.2: \n",
    "        scores.append('green')\n",
    "    elif 0.2 <turnover_prob <= 0.6:\n",
    "        scores.append('yellow')\n",
    "    elif 0.6 <turnover_prob <=0.9:\n",
    "        scores.append('orange')\n",
    "    else: \n",
    "        scores.append('red')"
   ]
  },
  {
   "cell_type": "code",
   "execution_count": 100,
   "id": "22e71dfe",
   "metadata": {},
   "outputs": [
    {
     "data": {
      "text/plain": [
       "green     2156\n",
       "red        643\n",
       "yellow     137\n",
       "orange      64\n",
       "Name: scores, dtype: int64"
      ]
     },
     "execution_count": 100,
     "metadata": {},
     "output_type": "execute_result"
    }
   ],
   "source": [
    "test_data.scores.value_counts()"
   ]
  },
  {
   "cell_type": "code",
   "execution_count": 106,
   "id": "343a91d8",
   "metadata": {},
   "outputs": [
    {
     "data": {
      "image/png": "[encoded data removed]",
      "text/plain": [
       "<Figure size 432x288 with 1 Axes>"
      ]
     },
     "metadata": {},
     "output_type": "display_data"
    }
   ],
   "source": [
    "X_test['scores'] = scores\n",
    "test_data = pd.concat([X_test, y_test], axis=1)\n",
    "\n",
    "sns.countplot(x='left', data = test_data, hue=scores,  palette=['green', 'orange', 'red', 'yellow', ] );"
   ]
  },
  {
   "cell_type": "code",
   "execution_count": null,
   "id": "6e8aab12",
   "metadata": {},
   "outputs": [],
   "source": []
  }
 ],
 "metadata": {
  "kernelspec": {
   "display_name": "Python 3 (ipykernel)",
   "language": "python",
   "name": "python3"
  },
  "language_info": {
   "codemirror_mode": {
    "name": "ipython",
    "version": 3
   },
   "file_extension": ".py",
   "mimetype": "text/x-python",
   "name": "python",
   "nbconvert_exporter": "python",
   "pygments_lexer": "ipython3",
   "version": "3.9.13"
  }
 },
 "nbformat": 4,
 "nbformat_minor": 5
}
